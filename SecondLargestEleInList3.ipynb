{
  "nbformat": 4,
  "nbformat_minor": 0,
  "metadata": {
    "colab": {
      "provenance": [],
      "authorship_tag": "ABX9TyO+QOZAGWaSb0by3GXpzirl",
      "include_colab_link": true
    },
    "kernelspec": {
      "name": "python3",
      "display_name": "Python 3"
    },
    "language_info": {
      "name": "python"
    }
  },
  "cells": [
    {
      "cell_type": "markdown",
      "metadata": {
        "id": "view-in-github",
        "colab_type": "text"
      },
      "source": [
        "<a href=\"https://colab.research.google.com/github/Jivika2/content/blob/main/SecondLargestEleInList3.ipynb\" target=\"_parent\"><img src=\"https://colab.research.google.com/assets/colab-badge.svg\" alt=\"Open In Colab\"/></a>"
      ]
    },
    {
      "cell_type": "code",
      "execution_count": 13,
      "metadata": {
        "colab": {
          "base_uri": "https://localhost:8080/"
        },
        "id": "rLebOAeDwG89",
        "outputId": "fd4a05c2-a11f-4bff-fa22-69162b3b2ff5"
      },
      "outputs": [
        {
          "output_type": "stream",
          "name": "stdout",
          "text": [
            "88\n"
          ]
        }
      ],
      "source": [
        "#Sorting is an easier but less optimal method. Given below is an O(n) algorithm to do the same.\n",
        "list=[12,14,98,9,15,76,88]\n",
        "mx=max(list[0],list[1])\n",
        "secondmax=min(list[0],list[1])\n",
        "n=len(list)\n",
        "for i in range(2,n):\n",
        "  if list[i]>mx:\n",
        "    secondmax=mx\n",
        "    mx=list[i]\n",
        "  elif list[i]>secondmax and mx!=list[i]:\n",
        "    secondmax=list[i]\n",
        "  elif mx==secondmax and secondmax!=list[i]:\n",
        "    secondmax=list[i]\n",
        "print(secondmax)\n"
      ]
    },
    {
      "cell_type": "code",
      "source": [
        "# Sort the list in ascending order and print the second last element in the list.\n",
        "list=[19,87,23,9,65,85]\n",
        "list.sort()\n",
        "print(list[-2])"
      ],
      "metadata": {
        "colab": {
          "base_uri": "https://localhost:8080/"
        },
        "id": "wXxiejrny73W",
        "outputId": "ab2f50c5-4b2a-4501-d9c3-596de78e83f8"
      },
      "execution_count": 5,
      "outputs": [
        {
          "output_type": "stream",
          "name": "stdout",
          "text": [
            "85\n"
          ]
        }
      ]
    },
    {
      "cell_type": "code",
      "source": [
        "#By removing the max element from the list\n",
        "list=[12,98,45,76,9,8,10]\n",
        "list.sort()\n",
        "#del list[-1]\n",
        "#print(list[-1])\n",
        "list.remove(max(list))\n",
        "print(max(list))\n"
      ],
      "metadata": {
        "colab": {
          "base_uri": "https://localhost:8080/"
        },
        "id": "anWjPPVFzd2F",
        "outputId": "a2729c26-bde0-4cde-ad1b-10d952e24d62"
      },
      "execution_count": 7,
      "outputs": [
        {
          "output_type": "stream",
          "name": "stdout",
          "text": [
            "76\n"
          ]
        }
      ]
    },
    {
      "cell_type": "code",
      "source": [
        "#Find the max list element on inputs provided by the user\n",
        "list=[98,87,65,100,10,15,12]\n",
        "print(\"second largest element in list:\", sorted(list)[-2])"
      ],
      "metadata": {
        "colab": {
          "base_uri": "https://localhost:8080/"
        },
        "id": "nuzvQiCz0Ksu",
        "outputId": "c2da2766-5051-4b0c-d196-1ac253ec7c2a"
      },
      "execution_count": 8,
      "outputs": [
        {
          "output_type": "stream",
          "name": "stdout",
          "text": [
            "second largest element in list: 98\n"
          ]
        }
      ]
    },
    {
      "cell_type": "code",
      "source": [
        "#Traverse once to find the largest and then once again to find the second largest.\n",
        "def findSecondLargest(arr):\n",
        "  largest=min(arr)\n",
        "  secondlarg=0\n",
        "  for i in range(len(arr)):\n",
        "    if arr[i]>largest:\n",
        "      secondlarg=largest\n",
        "      largest=arr[i]\n",
        "    else:\n",
        "      secondlarg=max(secondlarg,arr[i])\n",
        "  return secondlarg\n",
        "print(findSecondLargest([12,98,8,15,62,11,97,88]))\n"
      ],
      "metadata": {
        "colab": {
          "base_uri": "https://localhost:8080/"
        },
        "id": "PZVHCVYV0f5M",
        "outputId": "11045897-7c51-4fa5-a186-b90b805442ab"
      },
      "execution_count": 15,
      "outputs": [
        {
          "output_type": "stream",
          "name": "stdout",
          "text": [
            "97\n"
          ]
        }
      ]
    },
    {
      "cell_type": "code",
      "source": [
        "#Using list comprehension\n",
        "list=[10,87,98,67,13,15,21]\n",
        "def secondmax(list):\n",
        "    lst=[i for i in list if i<max(list)]\n",
        "    return max (lst)\n",
        "print(secondmax(list))"
      ],
      "metadata": {
        "colab": {
          "base_uri": "https://localhost:8080/"
        },
        "id": "FhY63xp63U89",
        "outputId": "0a080159-7c96-4c1d-b0be-5d0649bfc9d8"
      },
      "execution_count": 20,
      "outputs": [
        {
          "output_type": "stream",
          "name": "stdout",
          "text": [
            "87\n"
          ]
        }
      ]
    },
    {
      "cell_type": "code",
      "source": [
        "lst = [10, 20, 4, 45, 99]\n",
        "maximum1 = max(lst)\n",
        "maximum2 = max(lst, key=lambda x: min(lst)-1 if (x == maximum1) else x)\n",
        "print(maximum2)"
      ],
      "metadata": {
        "colab": {
          "base_uri": "https://localhost:8080/"
        },
        "id": "dwBF--om44bH",
        "outputId": "0714c895-2acb-4a98-9ca3-d51b0ad18f51"
      },
      "execution_count": 21,
      "outputs": [
        {
          "output_type": "stream",
          "name": "stdout",
          "text": [
            "45\n"
          ]
        }
      ]
    },
    {
      "cell_type": "code",
      "source": [
        "#Using enumerate function\n",
        "\n",
        "lst = [10, 20, 4, 45, 99]\n",
        "m=max(lst)\n",
        "x=[a for i,a in enumerate(lst) if a<m]\n",
        "print(max(x))"
      ],
      "metadata": {
        "colab": {
          "base_uri": "https://localhost:8080/"
        },
        "id": "1meMaEqV4-0h",
        "outputId": "59396727-9f4e-4994-b5ae-cbbee758614d"
      },
      "execution_count": 22,
      "outputs": [
        {
          "output_type": "stream",
          "name": "stdout",
          "text": [
            "45\n"
          ]
        }
      ]
    }
  ]
}