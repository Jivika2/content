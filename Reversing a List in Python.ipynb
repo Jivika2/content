{
  "nbformat": 4,
  "nbformat_minor": 0,
  "metadata": {
    "colab": {
      "provenance": [],
      "authorship_tag": "ABX9TyMLCag2OiOMskgzwuvyoV5d",
      "include_colab_link": true
    },
    "kernelspec": {
      "name": "python3",
      "display_name": "Python 3"
    },
    "language_info": {
      "name": "python"
    }
  },
  "cells": [
    {
      "cell_type": "markdown",
      "metadata": {
        "id": "view-in-github",
        "colab_type": "text"
      },
      "source": [
        "<a href=\"https://colab.research.google.com/github/Jivika2/content/blob/main/Reversing%20a%20List%20in%20Python.ipynb\" target=\"_parent\"><img src=\"https://colab.research.google.com/assets/colab-badge.svg\" alt=\"Open In Colab\"/></a>"
      ]
    },
    {
      "cell_type": "code",
      "execution_count": null,
      "metadata": {
        "colab": {
          "base_uri": "https://localhost:8080/"
        },
        "id": "0GIz5Fdvmlhp",
        "outputId": "043022b7-1afa-4b40-b477-4fe8b50fd226"
      },
      "outputs": [
        {
          "output_type": "stream",
          "name": "stdout",
          "text": [
            "[10, 9, 4, 65, 98, 12]\n"
          ]
        }
      ],
      "source": [
        "# Reverse List Using Slicing Technique\n",
        "def reverse(list):\n",
        "  lst=list[::-1]\n",
        "  return lst\n",
        "list=[12,98,65,4,9,10]\n",
        "print(reverse(list))"
      ]
    },
    {
      "cell_type": "code",
      "source": [
        "'''If the arr[], size if the length of the array is 1, then return arr. elif length of the array is 2, swap the first and last number and return arr. otherwise,\n",
        "initialize i=0. Loop for i in size//2 then swap the first present and last present numbers if the first and next numbers indexes are not same, then swap next and\n",
        "last of next numbers then increment i+=2, and after looping return arr.(reverse List by Swapping Present and Last Numbers at a Time)'''\n",
        "def reverse(arr,size):\n",
        "\n",
        "  if len(arr)==1:\n",
        "\n",
        "    return arr\n",
        "  elif(len(arr)==2):\n",
        "    arr[0],arr[1]=arr[1],arr[0]\n",
        "    return arr\n",
        "  else:\n",
        "\n",
        "        i=0\n",
        "        while(i<size//2):\n",
        "      #resent and preceding numbers at time and jump to second element after swap\n",
        "            arr[i],arr[size-i-1]=arr[size-i-1],arr[i]\n",
        "\n",
        "    #skip if present and preceding numbers indexes are same\n",
        "            if((i!=i+1 and size-i-1 != size-i-2) and (i!=size-i-2 and size-i-1!=i+1)):\n",
        "                arr[i+1],arr[size-i-2]=arr[size-i-2],arr[i+1]\n",
        "            i+=2\n",
        "        return arr\n",
        "'''arr[i],arr[size-i-1]=arr[size-i-1],arr[i]\n",
        "      if (i!=i+1 and size-i-1 != size-i-2) and (i!=size-i-2 and size-i-1!=i+1):\n",
        "        arr[i+1],arr[size-i-2]=arr[size-i-2],arr[i+1]\n",
        "      i+=2\n",
        "    return arr'''\n",
        "arr=[1,2,3,4,5]\n",
        "size=5\n",
        "print(reverse(arr,size))\n",
        "\n",
        "\n"
      ],
      "metadata": {
        "colab": {
          "base_uri": "https://localhost:8080/"
        },
        "id": "9omqoKConYn-",
        "outputId": "d8ee2100-9df7-4ea0-c73b-16c5e7dd22ad"
      },
      "execution_count": null,
      "outputs": [
        {
          "output_type": "stream",
          "name": "stdout",
          "text": [
            "[5, 4, 3, 2, 1]\n"
          ]
        }
      ]
    },
    {
      "cell_type": "code",
      "source": [
        "'''Using reversed() we can reverse the list and a list_reverseiterator object is created, from which we can create a list using list() type casting.\n",
        "Or, we can also use the list reverse() function to reverse list in place.'''\n",
        "def reverse(list):\n",
        "  list.reverse()\n",
        "  return list\n",
        "lst=[1,2,3,4,5,6]\n",
        "print(reverse(lst))\n"
      ],
      "metadata": {
        "colab": {
          "base_uri": "https://localhost:8080/"
        },
        "id": "OoM_5IX4uwWb",
        "outputId": "717c15e7-4661-4ca1-e609-4cd12f6113f5"
      },
      "execution_count": null,
      "outputs": [
        {
          "output_type": "stream",
          "name": "stdout",
          "text": [
            "[6, 5, 4, 3, 2, 1]\n"
          ]
        }
      ]
    },
    {
      "cell_type": "code",
      "source": [
        "'''Reverse a List Using a Two-Pointer Approach\n",
        "In this method, we will declare two pointers(basically the start index and the end index, let ‘left’ and ‘right’).\n",
        "While scanning the list, in each iteration we will swap the elements at index ‘left’ and ‘right’.\n",
        "The ‘left’ pointer will move forward and the ‘right’ pointer will move backward.\n",
        "We will continue the process till ‘first’ < ‘last’. This will work for both an even number of elements as well an odd number of elements.'''\n",
        "def reverse(list):\n",
        "  start=0\n",
        "  end=len(list)-1\n",
        "  while(start<end):\n",
        "    temp=list[start]\n",
        "    list[start]=list[end]\n",
        "    list[end]=temp\n",
        "    start+=1\n",
        "    end-=1\n",
        "  return list\n",
        "list=[10,11,19,14,18]\n",
        "print(reverse(list))"
      ],
      "metadata": {
        "id": "eZW1kHzUEst1"
      },
      "execution_count": null,
      "outputs": []
    },
    {
      "cell_type": "code",
      "source": [
        "''' Reverse a List Using List Comprehension\n",
        "In this technique, the list is not sorted in place. A copy of the original array is not required. We use list comprehension to reverse the array and return the list.\n",
        "We find the length of the array and then iterate over it using the range. Now, to replace the last element with the first,\n",
        "we subtract the length of the original list from the index of the iterator.'''\n",
        "original_list = [10, 11, 12, 13, 14, 15]\n",
        "new_list = [original_list[len(original_list) - i]\n",
        "            for i in range(1, len(original_list)+1)]\n",
        "print(new_list)"
      ],
      "metadata": {
        "id": "shk3MK56E57F"
      },
      "execution_count": null,
      "outputs": []
    }
  ]
}