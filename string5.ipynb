{
  "nbformat": 4,
  "nbformat_minor": 0,
  "metadata": {
    "colab": {
      "provenance": [],
      "authorship_tag": "ABX9TyNS1PMhinspW64Dmm8knMU4",
      "include_colab_link": true
    },
    "kernelspec": {
      "name": "python3",
      "display_name": "Python 3"
    },
    "language_info": {
      "name": "python"
    }
  },
  "cells": [
    {
      "cell_type": "markdown",
      "metadata": {
        "id": "view-in-github",
        "colab_type": "text"
      },
      "source": [
        "<a href=\"https://colab.research.google.com/github/Jivika2/content/blob/main/string5.ipynb\" target=\"_parent\"><img src=\"https://colab.research.google.com/assets/colab-badge.svg\" alt=\"Open In Colab\"/></a>"
      ]
    },
    {
      "cell_type": "markdown",
      "source": [
        "Program to check if a string contains any special character\n"
      ],
      "metadata": {
        "id": "4j5-Cn7erUre"
      }
    },
    {
      "cell_type": "code",
      "source": [
        "import re\n",
        "def run(string):\n",
        "  regex=re.compile('[@_!#$%^&*()<>?/\\|}{~:]')\n",
        "  if (regex.search(string)==None):\n",
        "    print(\"String is accepted\")\n",
        "  else:\n",
        "    print(\"String is not accepted\")\n",
        "string=\"colab@pypy#goole!%\"\n",
        "run(string)"
      ],
      "metadata": {
        "colab": {
          "base_uri": "https://localhost:8080/"
        },
        "id": "BxMly15rrZzW",
        "outputId": "f5cd6a6c-a2e1-4ef7-f49f-0433ff4744d6"
      },
      "execution_count": null,
      "outputs": [
        {
          "output_type": "stream",
          "name": "stdout",
          "text": [
            "String is not accepted\n"
          ]
        }
      ]
    },
    {
      "cell_type": "code",
      "source": [
        "''' To check if a special character is present in a given string or not, firstly group all special characters as one set. Then using for loop and if\n",
        "statements check for special characters. If any special character is found then increment the value of c. Finally, check if the c value is greater\n",
        "than zero then print string is not accepted otherwise print string is accepted. '''\n",
        "n=\"colab@pypy#goole!%\"\n",
        "s=('[@_!#$%^&*()<>?/\\|}{~:]')\n",
        "n.split()\n",
        "for i in range(len(n)):\n",
        "  if n[i] in s:\n",
        "    i+=1\n",
        "if i:\n",
        "   print(\"string is not acceptd\")\n",
        "else:\n",
        "   print(\"string is accepted\")"
      ],
      "metadata": {
        "colab": {
          "base_uri": "https://localhost:8080/"
        },
        "id": "QqVLPeqisi7E",
        "outputId": "c6f59c8d-f014-4811-b95b-2442bb621bfa"
      },
      "execution_count": null,
      "outputs": [
        {
          "output_type": "stream",
          "name": "stdout",
          "text": [
            "string is not acceptd\n"
          ]
        }
      ]
    },
    {
      "cell_type": "code",
      "source": [
        "import string\n",
        "def check_string(str):\n",
        "  for i in str:\n",
        "    if i in string.punctuation:\n",
        "      print(\"string is not accept\")\n",
        "      return\n",
        "  print(\"string is accepted\")\n",
        "str=\"colab@pypy#goole!%\"\n",
        "check_string(str)"
      ],
      "metadata": {
        "id": "jzcFAX5Vtfus",
        "colab": {
          "base_uri": "https://localhost:8080/"
        },
        "outputId": "4247c145-4c1f-4fe4-bcd9-5450a4536e84"
      },
      "execution_count": 1,
      "outputs": [
        {
          "output_type": "stream",
          "name": "stdout",
          "text": [
            "string is not accept\n"
          ]
        }
      ]
    }
  ]
}